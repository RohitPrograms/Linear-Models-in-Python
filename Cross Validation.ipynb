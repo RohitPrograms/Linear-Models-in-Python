{
 "cells": [
  {
   "cell_type": "code",
   "execution_count": 15,
   "metadata": {},
   "outputs": [],
   "source": [
    "# Importing Necessary Packages\n",
    "#------------------------------------------------------------------------\n",
    "\n",
    "# General\n",
    "import warnings                                                             \n",
    "warnings.filterwarnings(\"ignore\")\n",
    "import pandas as pd\n",
    "import numpy as np\n",
    "\n",
    "# Statsmodels\n",
    "import statsmodels.api as sm\n",
    "\n",
    "# Scikit-Learn\n",
    "from sklearn.datasets import load_diabetes\n",
    "from sklearn.linear_model import LinearRegression\n",
    "from sklearn.model_selection import cross_val_score, KFold, LeaveOneOut\n",
    "\n",
    "# Visualization\n",
    "import matplotlib.pyplot as plt\n",
    "from matplotlib.colors import LinearSegmentedColormap"
   ]
  },
  {
   "cell_type": "code",
   "execution_count": null,
   "metadata": {},
   "outputs": [
    {
     "data": {
      "text/html": [
       "<div>\n",
       "<style scoped>\n",
       "    .dataframe tbody tr th:only-of-type {\n",
       "        vertical-align: middle;\n",
       "    }\n",
       "\n",
       "    .dataframe tbody tr th {\n",
       "        vertical-align: top;\n",
       "    }\n",
       "\n",
       "    .dataframe thead th {\n",
       "        text-align: right;\n",
       "    }\n",
       "</style>\n",
       "<table border=\"1\" class=\"dataframe\">\n",
       "  <thead>\n",
       "    <tr style=\"text-align: right;\">\n",
       "      <th></th>\n",
       "      <th>age</th>\n",
       "      <th>sex</th>\n",
       "      <th>bmi</th>\n",
       "      <th>bp</th>\n",
       "      <th>s1</th>\n",
       "      <th>s2</th>\n",
       "      <th>s3</th>\n",
       "      <th>s4</th>\n",
       "      <th>s5</th>\n",
       "      <th>s6</th>\n",
       "      <th>target</th>\n",
       "    </tr>\n",
       "  </thead>\n",
       "  <tbody>\n",
       "    <tr>\n",
       "      <th>0</th>\n",
       "      <td>0.038076</td>\n",
       "      <td>1</td>\n",
       "      <td>0.061696</td>\n",
       "      <td>0.021872</td>\n",
       "      <td>-0.044223</td>\n",
       "      <td>-0.034821</td>\n",
       "      <td>-0.043401</td>\n",
       "      <td>-0.002592</td>\n",
       "      <td>0.019907</td>\n",
       "      <td>-0.017646</td>\n",
       "      <td>151.0</td>\n",
       "    </tr>\n",
       "    <tr>\n",
       "      <th>1</th>\n",
       "      <td>-0.001882</td>\n",
       "      <td>0</td>\n",
       "      <td>-0.051474</td>\n",
       "      <td>-0.026328</td>\n",
       "      <td>-0.008449</td>\n",
       "      <td>-0.019163</td>\n",
       "      <td>0.074412</td>\n",
       "      <td>-0.039493</td>\n",
       "      <td>-0.068332</td>\n",
       "      <td>-0.092204</td>\n",
       "      <td>75.0</td>\n",
       "    </tr>\n",
       "    <tr>\n",
       "      <th>2</th>\n",
       "      <td>0.085299</td>\n",
       "      <td>1</td>\n",
       "      <td>0.044451</td>\n",
       "      <td>-0.005670</td>\n",
       "      <td>-0.045599</td>\n",
       "      <td>-0.034194</td>\n",
       "      <td>-0.032356</td>\n",
       "      <td>-0.002592</td>\n",
       "      <td>0.002861</td>\n",
       "      <td>-0.025930</td>\n",
       "      <td>141.0</td>\n",
       "    </tr>\n",
       "    <tr>\n",
       "      <th>3</th>\n",
       "      <td>-0.089063</td>\n",
       "      <td>0</td>\n",
       "      <td>-0.011595</td>\n",
       "      <td>-0.036656</td>\n",
       "      <td>0.012191</td>\n",
       "      <td>0.024991</td>\n",
       "      <td>-0.036038</td>\n",
       "      <td>0.034309</td>\n",
       "      <td>0.022688</td>\n",
       "      <td>-0.009362</td>\n",
       "      <td>206.0</td>\n",
       "    </tr>\n",
       "    <tr>\n",
       "      <th>4</th>\n",
       "      <td>0.005383</td>\n",
       "      <td>0</td>\n",
       "      <td>-0.036385</td>\n",
       "      <td>0.021872</td>\n",
       "      <td>0.003935</td>\n",
       "      <td>0.015596</td>\n",
       "      <td>0.008142</td>\n",
       "      <td>-0.002592</td>\n",
       "      <td>-0.031988</td>\n",
       "      <td>-0.046641</td>\n",
       "      <td>135.0</td>\n",
       "    </tr>\n",
       "    <tr>\n",
       "      <th>...</th>\n",
       "      <td>...</td>\n",
       "      <td>...</td>\n",
       "      <td>...</td>\n",
       "      <td>...</td>\n",
       "      <td>...</td>\n",
       "      <td>...</td>\n",
       "      <td>...</td>\n",
       "      <td>...</td>\n",
       "      <td>...</td>\n",
       "      <td>...</td>\n",
       "      <td>...</td>\n",
       "    </tr>\n",
       "    <tr>\n",
       "      <th>437</th>\n",
       "      <td>0.041708</td>\n",
       "      <td>1</td>\n",
       "      <td>0.019662</td>\n",
       "      <td>0.059744</td>\n",
       "      <td>-0.005697</td>\n",
       "      <td>-0.002566</td>\n",
       "      <td>-0.028674</td>\n",
       "      <td>-0.002592</td>\n",
       "      <td>0.031193</td>\n",
       "      <td>0.007207</td>\n",
       "      <td>178.0</td>\n",
       "    </tr>\n",
       "    <tr>\n",
       "      <th>438</th>\n",
       "      <td>-0.005515</td>\n",
       "      <td>1</td>\n",
       "      <td>-0.015906</td>\n",
       "      <td>-0.067642</td>\n",
       "      <td>0.049341</td>\n",
       "      <td>0.079165</td>\n",
       "      <td>-0.028674</td>\n",
       "      <td>0.034309</td>\n",
       "      <td>-0.018114</td>\n",
       "      <td>0.044485</td>\n",
       "      <td>104.0</td>\n",
       "    </tr>\n",
       "    <tr>\n",
       "      <th>439</th>\n",
       "      <td>0.041708</td>\n",
       "      <td>1</td>\n",
       "      <td>-0.015906</td>\n",
       "      <td>0.017293</td>\n",
       "      <td>-0.037344</td>\n",
       "      <td>-0.013840</td>\n",
       "      <td>-0.024993</td>\n",
       "      <td>-0.011080</td>\n",
       "      <td>-0.046883</td>\n",
       "      <td>0.015491</td>\n",
       "      <td>132.0</td>\n",
       "    </tr>\n",
       "    <tr>\n",
       "      <th>440</th>\n",
       "      <td>-0.045472</td>\n",
       "      <td>0</td>\n",
       "      <td>0.039062</td>\n",
       "      <td>0.001215</td>\n",
       "      <td>0.016318</td>\n",
       "      <td>0.015283</td>\n",
       "      <td>-0.028674</td>\n",
       "      <td>0.026560</td>\n",
       "      <td>0.044529</td>\n",
       "      <td>-0.025930</td>\n",
       "      <td>220.0</td>\n",
       "    </tr>\n",
       "    <tr>\n",
       "      <th>441</th>\n",
       "      <td>-0.045472</td>\n",
       "      <td>0</td>\n",
       "      <td>-0.073030</td>\n",
       "      <td>-0.081413</td>\n",
       "      <td>0.083740</td>\n",
       "      <td>0.027809</td>\n",
       "      <td>0.173816</td>\n",
       "      <td>-0.039493</td>\n",
       "      <td>-0.004222</td>\n",
       "      <td>0.003064</td>\n",
       "      <td>57.0</td>\n",
       "    </tr>\n",
       "  </tbody>\n",
       "</table>\n",
       "<p>442 rows × 11 columns</p>\n",
       "</div>"
      ],
      "text/plain": [
       "          age  sex       bmi        bp        s1        s2        s3  \\\n",
       "0    0.038076    1  0.061696  0.021872 -0.044223 -0.034821 -0.043401   \n",
       "1   -0.001882    0 -0.051474 -0.026328 -0.008449 -0.019163  0.074412   \n",
       "2    0.085299    1  0.044451 -0.005670 -0.045599 -0.034194 -0.032356   \n",
       "3   -0.089063    0 -0.011595 -0.036656  0.012191  0.024991 -0.036038   \n",
       "4    0.005383    0 -0.036385  0.021872  0.003935  0.015596  0.008142   \n",
       "..        ...  ...       ...       ...       ...       ...       ...   \n",
       "437  0.041708    1  0.019662  0.059744 -0.005697 -0.002566 -0.028674   \n",
       "438 -0.005515    1 -0.015906 -0.067642  0.049341  0.079165 -0.028674   \n",
       "439  0.041708    1 -0.015906  0.017293 -0.037344 -0.013840 -0.024993   \n",
       "440 -0.045472    0  0.039062  0.001215  0.016318  0.015283 -0.028674   \n",
       "441 -0.045472    0 -0.073030 -0.081413  0.083740  0.027809  0.173816   \n",
       "\n",
       "           s4        s5        s6  target  \n",
       "0   -0.002592  0.019907 -0.017646   151.0  \n",
       "1   -0.039493 -0.068332 -0.092204    75.0  \n",
       "2   -0.002592  0.002861 -0.025930   141.0  \n",
       "3    0.034309  0.022688 -0.009362   206.0  \n",
       "4   -0.002592 -0.031988 -0.046641   135.0  \n",
       "..        ...       ...       ...     ...  \n",
       "437 -0.002592  0.031193  0.007207   178.0  \n",
       "438  0.034309 -0.018114  0.044485   104.0  \n",
       "439 -0.011080 -0.046883  0.015491   132.0  \n",
       "440  0.026560  0.044529 -0.025930   220.0  \n",
       "441 -0.039493 -0.004222  0.003064    57.0  \n",
       "\n",
       "[442 rows x 11 columns]"
      ]
     },
     "metadata": {},
     "output_type": "display_data"
    }
   ],
   "source": [
    "# Loading in Relevant Data\n",
    "#------------------------------------------------------------------------\n",
    "diabetes = load_diabetes(scaled = True)     \n",
    "df = pd.DataFrame(data = diabetes.data, columns = diabetes.feature_names)\n",
    "df['target'] = diabetes.target\n",
    "\n",
    "def MaleOrFemale(x):\n",
    "    if x < 0: return 0\n",
    "    return 1\n",
    "\n",
    "df['sex'] = df['sex'].apply(lambda x: MaleOrFemale(x))\n",
    "df"
   ]
  },
  {
   "cell_type": "markdown",
   "metadata": {},
   "source": [
    "<hr>\n",
    "<p style=\"text-align:center; font-size:x-large; color:black;\">Training v.s Testing Data</p>\n",
    "<hr>"
   ]
  },
  {
   "cell_type": "markdown",
   "metadata": {},
   "source": [
    "Before learning about Cross-Validation, it's important to understand __training__ v.s __testing__ data.\n",
    "- __Training Data__: This is the portion of the dataset that is used to train or build the machine learning model.\n",
    "- __Testing Data__: This is remaining portion of the dataset that is used to evaluate the performance of the trained model."
   ]
  },
  {
   "cell_type": "markdown",
   "metadata": {},
   "source": [
    "<hr>\n",
    "<p style=\"text-align:center; font-size:x-large; color:black;\">Cross-Validation (CV)</p>\n",
    "<hr>"
   ]
  },
  {
   "cell_type": "markdown",
   "metadata": {},
   "source": [
    "The main goal of __Cross-Validation (CV)__ is to estimate how well a predictive model (such as a linear model) will perform on unseen data. This is done by partitioning the available data into various training and testing splits. Assessing our model's performance on varying testing/training splits will reduce the risk of overfitting or underfitting to a particular dataset. There are many ways to perform CV, but the 2 main methods I'll go over are...\n",
    "- __K-Fold Cross Validation__\n",
    "- __Leave-One-Out (LOO) CV__"
   ]
  },
  {
   "cell_type": "markdown",
   "metadata": {},
   "source": [
    "<p style=\"text-align:left; font-size:x-large; color:black;\"> K-Fold Cross-Validation </p>"
   ]
  },
  {
   "cell_type": "markdown",
   "metadata": {},
   "source": [
    "To perform K-Fold Cross-Validation, we split up our dataset into K partitions (as evenly as we can). From here, we will use K-1 folds as training data, and use the remaining fold as our testing data and evaluate a performance. Since there a K-Folds, we are essentaily fitting K different models and obtaining K different performance metrics. We can then take the average of these K instances of our performance metric, and obtain a general assessment of our model's performance.\n",
    "\n",
    "Wtihin K-Fold Cross-Validation, we can decided whether __Shuffle__ the data before partitioning our data. To work on my visualization skills, I coded up a quick visualization of how shuffling (or not shuffling) affects how the K-Fold Cross Validation splits data into training and testing sets."
   ]
  },
  {
   "cell_type": "code",
   "execution_count": 35,
   "metadata": {},
   "outputs": [
    {
     "data": {
      "image/png": "[encoded data removed]",
      "text/plain": [
       "<Figure size 2000x1200 with 2 Axes>"
      ]
     },
     "metadata": {},
     "output_type": "display_data"
    }
   ],
   "source": [
    "grid1 = [[1,1,0,0,0,0,0,0,0,0],\n",
    "        [0,0,1,1,0,0,0,0,0,0],\n",
    "        [0,0,0,0,1,1,0,0,0,0],\n",
    "        [0,0,0,0,0,0,1,1,0,0],\n",
    "        [0,0,0,0,0,0,0,0,1,1]]\n",
    "grid2 = [[1,0,0,0,0,0,0,0,1,0],\n",
    "        [0,1,0,1,0,0,0,0,0,0],\n",
    "        [0,0,0,0,1,0,0,0,0,1],\n",
    "        [0,0,1,0,0,0,1,0,0,0],\n",
    "        [0,0,0,0,0,1,0,1,0,0]]\n",
    "\n",
    "colors = ['lightgray', '#4169E1E6']\n",
    "custom_cmap = LinearSegmentedColormap.from_list('KFCV', colors)\n",
    "\n",
    "fig, axs = plt.subplots(1, 2, figsize=(20, 12))\n",
    "\n",
    "ax1 = axs[0]\n",
    "ax1.imshow(grid1, interpolation = 'None', cmap = custom_cmap)\n",
    "ax1.set_title('5-Fold CV (Shuffle = False)')\n",
    "\n",
    "ax2 = axs[1]\n",
    "ax2.imshow(grid2, interpolation = 'None', cmap = custom_cmap)\n",
    "ax2.set_title('5-Fold CV (Shuffle = True)')\n",
    "\n",
    "\n",
    "hlines = np.arange(0.48, 4, 1)\n",
    "vlines = np.arange(0.49, 10, 1)\n",
    "plots = [ax1, ax2]\n",
    "for plot in plots:\n",
    "    \n",
    "    fold_positions = range(5)\n",
    "    fold_labels = [f'Fold {i+1}' for i in range(5)]\n",
    "    plot.set_yticks(fold_positions)\n",
    "    plot.set_yticklabels(fold_labels)\n",
    "\n",
    "    for hline in hlines:\n",
    "        plot.axhline(hline, color='black', linewidth = 2, linestyle = '-')\n",
    "\n",
    "    for vline in vlines:\n",
    "        plot.axvline(vline, color='black', linewidth = 0.5, linestyle = '--', alpha = 0.3)\n",
    "        \n",
    "    plot.spines[['top', 'left', 'bottom', 'right']].set_linewidth(2)\n",
    "    plot.set_xticks([])\n",
    "    \n",
    "\n",
    "legend_labels = ['Traning Data', 'Testing Data']\n",
    "\n",
    "# Add custom legend\n",
    "for i, label in enumerate(legend_labels):\n",
    "    plt.scatter([], [], color = colors[i], label = label)\n",
    "plt.legend(loc='upper center', bbox_to_anchor=(1.2, 0.6)) \n",
    "plt.show()"
   ]
  },
  {
   "cell_type": "markdown",
   "metadata": {},
   "source": [
    "Below is an example of the implementation of 5-Fold CV in Python. This comes from the __sklearn.model_selection__ library."
   ]
  },
  {
   "cell_type": "code",
   "execution_count": 6,
   "metadata": {},
   "outputs": [],
   "source": [
    "KFCV = KFold(n_splits = 5, shuffle = False)\n",
    "KFCV_with_shuffle = KFold(n_splits = 5, shuffle = True)"
   ]
  },
  {
   "cell_type": "markdown",
   "metadata": {},
   "source": [
    "To ensure that the data is actually splitting the dataset into roughly equal parts, I've put the follow code below..."
   ]
  },
  {
   "cell_type": "code",
   "execution_count": 10,
   "metadata": {},
   "outputs": [
    {
     "name": "stdout",
     "output_type": "stream",
     "text": [
      "5-fold CV - Shuffle = False\n",
      "Traning Data Size: 353, Testing Data Size: 89\n",
      "Traning Data Size: 353, Testing Data Size: 89\n",
      "Traning Data Size: 354, Testing Data Size: 88\n",
      "Traning Data Size: 354, Testing Data Size: 88\n",
      "Traning Data Size: 354, Testing Data Size: 88\n",
      "\n",
      "5-fold CV - Shuffle = False\n",
      "Traning Data Size: 353, Testing Data Size: 89\n",
      "Traning Data Size: 353, Testing Data Size: 89\n",
      "Traning Data Size: 354, Testing Data Size: 88\n",
      "Traning Data Size: 354, Testing Data Size: 88\n",
      "Traning Data Size: 354, Testing Data Size: 88\n"
     ]
    }
   ],
   "source": [
    "print('5-fold CV - Shuffle = False')\n",
    "for train_index, test_index in KFCV.split(df):\n",
    "    print(f'Traning Data Size: {len(train_index)}, Testing Data Size: {len(test_index)}') \n",
    "\n",
    "print('\\n5-fold CV - Shuffle = False')\n",
    "for train_index, test_index in KFCV_with_shuffle.split(df):\n",
    "    print(f'Traning Data Size: {len(train_index)}, Testing Data Size: {len(test_index)}') "
   ]
  },
  {
   "cell_type": "markdown",
   "metadata": {},
   "source": [
    "Ultimately, with this K-Fold Cross-Validation, I want to measure a performance metric of some kind, for example MSE. Scikit-Learn provides an easy way to do this with __cross_val_score__. Here are the required parameters.\n",
    "- __estimator__: The type of model that you want to run\n",
    "- __X__: The data that will be used as the predictor variables\n",
    "- __y__: The target/response variable that we want to predict\n",
    "- __cv__: The Cross-Validation method that we want to perform\n",
    "- __scoring__: The scoring method that we want to use within each fold  \n",
    "\n",
    "This will return an array of performance metrics for __each__ train/test split. So if I performed 5-Fold CV, cross_val_score() would return 5 values. Here's an example below..."
   ]
  },
  {
   "cell_type": "code",
   "execution_count": 12,
   "metadata": {},
   "outputs": [
    {
     "data": {
      "text/html": [
       "<div>\n",
       "<style scoped>\n",
       "    .dataframe tbody tr th:only-of-type {\n",
       "        vertical-align: middle;\n",
       "    }\n",
       "\n",
       "    .dataframe tbody tr th {\n",
       "        vertical-align: top;\n",
       "    }\n",
       "\n",
       "    .dataframe thead th {\n",
       "        text-align: right;\n",
       "    }\n",
       "</style>\n",
       "<table border=\"1\" class=\"dataframe\">\n",
       "  <thead>\n",
       "    <tr style=\"text-align: right;\">\n",
       "      <th></th>\n",
       "      <th>MSE (Shuffle = False)</th>\n",
       "      <th>MSE (Shuffle = True)</th>\n",
       "    </tr>\n",
       "  </thead>\n",
       "  <tbody>\n",
       "    <tr>\n",
       "      <th>Fold 1</th>\n",
       "      <td>3010.965241</td>\n",
       "      <td>3193.812589</td>\n",
       "    </tr>\n",
       "    <tr>\n",
       "      <th>Fold 2</th>\n",
       "      <td>3274.356618</td>\n",
       "      <td>3036.014167</td>\n",
       "    </tr>\n",
       "    <tr>\n",
       "      <th>Fold 3</th>\n",
       "      <td>3287.316414</td>\n",
       "      <td>4235.613677</td>\n",
       "    </tr>\n",
       "    <tr>\n",
       "      <th>Fold 4</th>\n",
       "      <td>3199.006005</td>\n",
       "      <td>2644.975544</td>\n",
       "    </tr>\n",
       "    <tr>\n",
       "      <th>Fold 5</th>\n",
       "      <td>3329.187012</td>\n",
       "      <td>3336.217494</td>\n",
       "    </tr>\n",
       "  </tbody>\n",
       "</table>\n",
       "</div>"
      ],
      "text/plain": [
       "        MSE (Shuffle = False)  MSE (Shuffle = True)\n",
       "Fold 1            3010.965241           3193.812589\n",
       "Fold 2            3274.356618           3036.014167\n",
       "Fold 3            3287.316414           4235.613677\n",
       "Fold 4            3199.006005           2644.975544\n",
       "Fold 5            3329.187012           3336.217494"
      ]
     },
     "execution_count": 12,
     "metadata": {},
     "output_type": "execute_result"
    }
   ],
   "source": [
    "first_score = cross_val_score(estimator = LinearRegression(), \n",
    "                            X = df[['bmi', 's5']], \n",
    "                            y = df['target'],\n",
    "                            cv = KFCV, \n",
    "                            scoring = 'neg_mean_squared_error')\n",
    "\n",
    "second_score = cross_val_score(estimator = LinearRegression(), \n",
    "                            X = df[['bmi', 's5']], \n",
    "                            y = df['target'],\n",
    "                            cv = KFCV_with_shuffle, \n",
    "                            scoring = 'neg_mean_squared_error')\n",
    "\n",
    "results = pd.DataFrame({'MSE (Shuffle = False)' : -first_score, \n",
    "                        'MSE (Shuffle = True)' : -second_score})\n",
    "results.index = [f'Fold {i+1}' for i in range(5)]\n",
    "results"
   ]
  },
  {
   "cell_type": "markdown",
   "metadata": {},
   "source": [
    "From here, we can just calculate the means of these scores to get a general idea of the performance of our model. I'll run this process 10 times to highlight the differences in shuffle = True/False."
   ]
  },
  {
   "cell_type": "code",
   "execution_count": 14,
   "metadata": {},
   "outputs": [
    {
     "data": {
      "text/html": [
       "<div>\n",
       "<style scoped>\n",
       "    .dataframe tbody tr th:only-of-type {\n",
       "        vertical-align: middle;\n",
       "    }\n",
       "\n",
       "    .dataframe tbody tr th {\n",
       "        vertical-align: top;\n",
       "    }\n",
       "\n",
       "    .dataframe thead th {\n",
       "        text-align: right;\n",
       "    }\n",
       "</style>\n",
       "<table border=\"1\" class=\"dataframe\">\n",
       "  <thead>\n",
       "    <tr style=\"text-align: right;\">\n",
       "      <th></th>\n",
       "      <th>Average MSE (Shuffle = True)</th>\n",
       "      <th>Average MSE (Shuffle = False)</th>\n",
       "    </tr>\n",
       "  </thead>\n",
       "  <tbody>\n",
       "    <tr>\n",
       "      <th>0</th>\n",
       "      <td>3220.166258</td>\n",
       "      <td>3249.440944</td>\n",
       "    </tr>\n",
       "    <tr>\n",
       "      <th>1</th>\n",
       "      <td>3220.166258</td>\n",
       "      <td>3301.339264</td>\n",
       "    </tr>\n",
       "    <tr>\n",
       "      <th>2</th>\n",
       "      <td>3220.166258</td>\n",
       "      <td>3235.169573</td>\n",
       "    </tr>\n",
       "    <tr>\n",
       "      <th>3</th>\n",
       "      <td>3220.166258</td>\n",
       "      <td>3233.413563</td>\n",
       "    </tr>\n",
       "    <tr>\n",
       "      <th>4</th>\n",
       "      <td>3220.166258</td>\n",
       "      <td>3238.021635</td>\n",
       "    </tr>\n",
       "    <tr>\n",
       "      <th>5</th>\n",
       "      <td>3220.166258</td>\n",
       "      <td>3222.483494</td>\n",
       "    </tr>\n",
       "    <tr>\n",
       "      <th>6</th>\n",
       "      <td>3220.166258</td>\n",
       "      <td>3223.874006</td>\n",
       "    </tr>\n",
       "    <tr>\n",
       "      <th>7</th>\n",
       "      <td>3220.166258</td>\n",
       "      <td>3255.308920</td>\n",
       "    </tr>\n",
       "    <tr>\n",
       "      <th>8</th>\n",
       "      <td>3220.166258</td>\n",
       "      <td>3232.311293</td>\n",
       "    </tr>\n",
       "    <tr>\n",
       "      <th>9</th>\n",
       "      <td>3220.166258</td>\n",
       "      <td>3341.888492</td>\n",
       "    </tr>\n",
       "  </tbody>\n",
       "</table>\n",
       "</div>"
      ],
      "text/plain": [
       "   Average MSE (Shuffle = True)  Average MSE (Shuffle = False)\n",
       "0                   3220.166258                    3249.440944\n",
       "1                   3220.166258                    3301.339264\n",
       "2                   3220.166258                    3235.169573\n",
       "3                   3220.166258                    3233.413563\n",
       "4                   3220.166258                    3238.021635\n",
       "5                   3220.166258                    3222.483494\n",
       "6                   3220.166258                    3223.874006\n",
       "7                   3220.166258                    3255.308920\n",
       "8                   3220.166258                    3232.311293\n",
       "9                   3220.166258                    3341.888492"
      ]
     },
     "execution_count": 14,
     "metadata": {},
     "output_type": "execute_result"
    }
   ],
   "source": [
    "results = pd.DataFrame(columns = ['Average MSE (Shuffle = False)', 'Average MSE (Shuffle = True)'])\n",
    "\n",
    "for i in range(10):\n",
    "\n",
    "    first_score = cross_val_score(estimator = LinearRegression(), \n",
    "                            X = df[['bmi', 's5']], \n",
    "                            y = df['target'],\n",
    "                            cv = KFCV, \n",
    "                            scoring = 'neg_mean_squared_error')\n",
    "\n",
    "    second_score = cross_val_score(estimator = LinearRegression(), \n",
    "                            X = df[['bmi', 's5']], \n",
    "                            y = df['target'],\n",
    "                            cv = KFCV_with_shuffle, \n",
    "                            scoring = 'neg_mean_squared_error') \n",
    "    \n",
    "    results.loc[len(results)] = [-np.mean(first_score), -np.mean(second_score)]\n",
    "\n",
    "results"
   ]
  },
  {
   "cell_type": "markdown",
   "metadata": {},
   "source": [
    "Without shuffling, we will always obtain the same results."
   ]
  },
  {
   "cell_type": "markdown",
   "metadata": {},
   "source": [
    "<p style=\"text-align:left; font-size:x-large; color:black;\"> Leave-One-Out (LOO) Cross-Validation </p>"
   ]
  },
  {
   "cell_type": "markdown",
   "metadata": {},
   "source": [
    "Leave-One-Out CV is the same thing as n-Fold CV, where n is the number of data points that you have. Within each fold, a singular data point is treated as the testing set, while the rest of the data is used for training. Through this process, we willl have n instances of our performance metrics. Just like K-Fold CV, we can then average these instances to get an overall assessment of the model's performance. Again, I decided to code up my own visualization of LOO CV below."
   ]
  },
  {
   "cell_type": "code",
   "execution_count": 38,
   "metadata": {},
   "outputs": [
    {
     "data": {
      "image/png": "[encoded data removed]",
      "text/plain": [
       "<Figure size 1200x1200 with 1 Axes>"
      ]
     },
     "metadata": {},
     "output_type": "display_data"
    }
   ],
   "source": [
    "grid3 = np.eye(20)\n",
    "\n",
    "colors = ['lightgray', '#4169E1E6']\n",
    "custom_cmap = LinearSegmentedColormap.from_list('KFCV', colors)\n",
    "\n",
    "fig = plt.figure(figsize = (12,12))\n",
    "plt.imshow(grid3, interpolation = 'None', cmap = custom_cmap)\n",
    "\n",
    "hlines = np.arange(0.48, 19, 1)\n",
    "for hline in hlines:\n",
    "    plt.axhline(hline, color='black', linewidth = 2, linestyle = '-')\n",
    "\n",
    "vlines = np.arange(0.49, 20, 1)\n",
    "for vline in vlines:\n",
    "    plt.axvline(vline, color='black', linewidth = 0.5, linestyle = '--', alpha = 0.3)\n",
    "\n",
    "plt.gca().spines[['top', 'left', 'bottom', 'right']].set_linewidth(2)\n",
    "plt.xticks([])\n",
    "plt.yticks(range(20))\n",
    "plt.gca().set_yticklabels([f'Fold {i+1}' for i in range(20)])\n",
    "plt.title('Visualization of Leave-One-Out (LOO) CV')\n",
    "\n",
    "legend_labels = ['Traning Data', 'Testing Data']\n",
    "\n",
    "# Add custom legend\n",
    "for i, label in enumerate(legend_labels):\n",
    "    plt.scatter([], [], color = colors[i], label = label)\n",
    "plt.legend(loc='upper center', bbox_to_anchor=(1.1, 0.55)) \n",
    "\n",
    "plt.show()"
   ]
  },
  {
   "cell_type": "markdown",
   "metadata": {},
   "source": [
    "Below is an example of implementing Leave-One-Out CV in Python. Note that this will always yield the same result since we are obtaining a performance metric for each and every data point."
   ]
  },
  {
   "cell_type": "code",
   "execution_count": 41,
   "metadata": {},
   "outputs": [
    {
     "name": "stdout",
     "output_type": "stream",
     "text": [
      "Average MSE by LOOCV: 3247.9789202857637\n"
     ]
    }
   ],
   "source": [
    "LOO = LeaveOneOut()\n",
    "third_score = cross_val_score(estimator = LinearRegression(), \n",
    "                            X = df[['bmi', 's5']], \n",
    "                            y = df['target'],\n",
    "                            cv = LOO, \n",
    "                            scoring = 'neg_mean_squared_error')\n",
    "print(f'Average MSE by LOOCV: {-np.mean(third_score)}')"
   ]
  },
  {
   "cell_type": "markdown",
   "metadata": {},
   "source": [
    "<p style=\"text-align:left; font-size:x-large; color:black;\"> Nested Cross-Vaildation </p>"
   ]
  },
  {
   "cell_type": "markdown",
   "metadata": {},
   "source": [
    "Nested Cross-Validation is fequently employed in linear models when it comes to __hyperparameter tuning__ of Lasso/Ridge Regression, which I'll show in another Jupyter Notebook.In a K-Fold or Leave-One-Out CV, data is simulataneously used as training AND testing data. Because of this, our 'ideal' model tends to overfit the test data, and the estimation leads to an optimistic bias. This is called __leakage__. <br>\n",
    "\n",
    "Nested Cross-Validation eliminates leakage by implementing 2 layers of CV (either 2 K-Folds, 2 Leave-One-Outs, or 1 of each). This way, we can tune a hyperparameter with the inner layer of training-testing data, and validate the resulting model's performance on the outer cross-validation's testing data, which has data that was not used to tune the hyperparameter. This gives us a better understanding of a model's general performance. <br> \n",
    "\n",
    "In the __Regularization and Hyperparameter Tuning__ notebook, I provide examples of using Nested CV to find optimal hyperparameters (&lambda;), and then utilizing K-Fold CV to test the models' general performance. For now, Here is an image I found online that depicts the process of Nested CV (still have to work on my visualization skills).\n",
    "\n",
    "![Plot](NestedCV.png)"
   ]
  }
 ],
 "metadata": {
  "kernelspec": {
   "display_name": "Python 3",
   "language": "python",
   "name": "python3"
  },
  "language_info": {
   "codemirror_mode": {
    "name": "ipython",
    "version": 3
   },
   "file_extension": ".py",
   "mimetype": "text/x-python",
   "name": "python",
   "nbconvert_exporter": "python",
   "pygments_lexer": "ipython3",
   "version": "3.12.0"
  }
 },
 "nbformat": 4,
 "nbformat_minor": 2
}
